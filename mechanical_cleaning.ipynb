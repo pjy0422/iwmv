{
 "cells": [
  {
   "cell_type": "code",
   "execution_count": 16,
   "metadata": {},
   "outputs": [],
   "source": [
    "from utils.json_utils import *"
   ]
  },
  {
   "cell_type": "code",
   "execution_count": 17,
   "metadata": {},
   "outputs": [],
   "source": [
    "original_data_path = \"/home/guest-pjy/data/0831/0831_hotpotqa_cleaned.json\"\n",
    "new_data_path = \"/home/guest-pjy/data/0831/0831_hotpotqa_cleaned.json\"\n",
    "data = load_json(original_data_path)\n",
    "for idx, item in enumerate(data):\n",
    "    item[\"index\"] = idx\n",
    "for item in data:\n",
    "    if len(item[\"paraphrase\"]) != 10:\n",
    "        print(item[\"index\"])\n",
    "    if len(item[\"counterfactual\"]) != 9:\n",
    "        print(item[\"index\"])\n",
    "    for cf in item[\"counterfactual\"]:\n",
    "        if len(cf[\"contexts\"]) != 3:\n",
    "            print(item[\"index\"])"
   ]
  },
  {
   "cell_type": "code",
   "execution_count": 18,
   "metadata": {},
   "outputs": [],
   "source": [
    "for item in data:\n",
    "    for cf in item[\"counterfactual\"]:\n",
    "        answer = item[\"answers\"]\n",
    "        for ans in answer:\n",
    "            if cf[\"answers\"][0].lower() == ans.lower():\n",
    "                print(item[\"index\"])\n",
    "                print(item[\"question\"])\n",
    "                print(cf[\"answers\"][0])\n",
    "                print(ans)"
   ]
  },
  {
   "cell_type": "markdown",
   "metadata": {},
   "source": [
    "clarify\n",
    "although\n",
    "some\n",
    "often\n",
    "never\n",
    "however\n",
    "is not\n",
    "are not\n",
    "do not\n",
    "does not\n",
    "was not\n",
    "were not\n",
    "doesn't\n",
    "although\n",
    "though\n",
    "directly\n",
    "frequently\n",
    "frequent\n",
    "while\n",
    "another\n",
    "other\n",
    "incorrectly\n",
    "incorrect\n",
    "yet\n",
    "despite\n",
    "common\n",
    "commonly\n",
    "essential for clarity\n",
    "clearly\n",
    "but\n",
    "instead"
   ]
  },
  {
   "cell_type": "markdown",
   "metadata": {},
   "source": [
    "step 1: original answer -> new answer\n",
    "step 2: 단어 제거"
   ]
  },
  {
   "cell_type": "markdown",
   "metadata": {},
   "source": []
  },
  {
   "cell_type": "code",
   "execution_count": 19,
   "metadata": {},
   "outputs": [],
   "source": [
    "import re\n",
    "\n",
    "for idx, item in enumerate(data):\n",
    "    new_cf = []\n",
    "    for cf in item[\"counterfactual\"]:\n",
    "        cf_answer = cf[\"answers\"][0]\n",
    "        for ans in item[\"answers\"]:\n",
    "            ans_lower = re.escape(\n",
    "                ans.lower()\n",
    "            )  # Escape special characters in the answer and make it lowercase\n",
    "            pattern = re.compile(\n",
    "                r\"\\b\" + ans_lower + r\"[\\.,;:!\\?]*\\b\", re.IGNORECASE\n",
    "            )  # Compile regex pattern to ignore punctuation\n",
    "            updated_contexts = []\n",
    "            for text in cf[\"contexts\"]:\n",
    "                updated_text = pattern.sub(\n",
    "                    cf_answer, text\n",
    "                )  # Substitute matches in the original text\n",
    "                updated_contexts.append(\n",
    "                    updated_text\n",
    "                )  # Collect the updated text\n",
    "            cf[\"contexts\"] = (\n",
    "                updated_contexts  # Replace the contexts with the updated ones\n",
    "            )\n",
    "        new_cf.append(cf)\n",
    "    data[idx][\n",
    "        \"counterfactual\"\n",
    "    ] = new_cf  # Ensure the updated counterfactuals are assigned back to data"
   ]
  },
  {
   "cell_type": "code",
   "execution_count": 20,
   "metadata": {},
   "outputs": [
    {
     "name": "stderr",
     "output_type": "stream",
     "text": [
      "  0%|          | 0/3000 [00:00<?, ?it/s]"
     ]
    },
    {
     "name": "stderr",
     "output_type": "stream",
     "text": [
      "100%|██████████| 3000/3000 [00:14<00:00, 207.29it/s]\n"
     ]
    }
   ],
   "source": [
    "import re\n",
    "from tqdm import tqdm\n",
    "\n",
    "# List of words to remove\n",
    "words_to_remove = [\n",
    "    \"clarify\",\n",
    "    \"although\",\n",
    "    \"some\",\n",
    "    \"often\",\n",
    "    \"never\",\n",
    "    \"however\",\n",
    "    \"although\",\n",
    "    \"though\",\n",
    "    \"directly\",\n",
    "    \"frequently\",\n",
    "    \"frequent\",\n",
    "    \"while\",\n",
    "    \"another\",\n",
    "    \"other\",\n",
    "    \"incorrectly\",\n",
    "    \"incorrect\",\n",
    "    \"yet\",\n",
    "    \"despite\",\n",
    "    \"common\",\n",
    "    \"commonly\",\n",
    "    \"essential for clarity\",\n",
    "    \"clearly\",\n",
    "    \"but\",\n",
    "    \"instead\",\n",
    "    \"nevertheless\",\n",
    "    \"humor\",\n",
    "    \"humorous\",\n",
    "    \"joke\",\n",
    "    \"joking\",\n",
    "    \"misunderstandings\",\n",
    "    \"misconceptions\",\n",
    "    \"confuse\",\n",
    "    \"confusing\",\n",
    "    \"confusion\",\n",
    "    \"confusions\",\n",
    "    \"confused\",\n",
    "    \"actually\",\n",
    "]\n",
    "\n",
    "# Dictionary of negative phrases and their positive counterparts\n",
    "negative_to_positive = {\n",
    "    \"is not\": \"is\",\n",
    "    \"are not\": \"are\",\n",
    "    \"was not\": \"was\",\n",
    "    \"were not\": \"were\",\n",
    "    \"has not\": \"has\",\n",
    "    \"have not\": \"have\",\n",
    "    \"had not\": \"had\",\n",
    "    \"does not\": \"does\",\n",
    "    \"do not\": \"do\",\n",
    "    \"did not\": \"did\",\n",
    "    \"isn't\": \"is\",\n",
    "    \"aren't\": \"are\",\n",
    "    \"wasn't\": \"was\",\n",
    "    \"weren't\": \"were\",\n",
    "    \"hasn't\": \"has\",\n",
    "    \"haven't\": \"have\",\n",
    "    \"hadn't\": \"had\",\n",
    "    \"doesn't\": \"does\",\n",
    "    \"don't\": \"do\",\n",
    "    \"didn't\": \"did\",\n",
    "}\n",
    "\n",
    "# Compile regex for removing words (case-insensitive)\n",
    "remove_pattern = re.compile(\n",
    "    r\"\\b(?:\" + \"|\".join(map(re.escape, words_to_remove)) + r\")\\b[\\.,;:!\\?]*\",\n",
    "    re.IGNORECASE,\n",
    ")\n",
    "\n",
    "# Compile regex for removing \"mis\" from words starting with \"mis\", excluding \"miss\"\n",
    "mis_pattern = re.compile(r\"\\bmis(?!s)\\w*\\b\", re.IGNORECASE)\n",
    "\n",
    "\n",
    "# Function to replace negative phrases\n",
    "def replace_negatives(text, replacements):\n",
    "    for neg, pos in replacements.items():\n",
    "        # Adjust the regex to ignore punctuation after the negative phrase\n",
    "        text = re.sub(\n",
    "            r\"\\b\" + re.escape(neg) + r\"[\\.,;:!\\?]*\\b\",\n",
    "            pos,\n",
    "            text,\n",
    "            flags=re.IGNORECASE,\n",
    "        )\n",
    "    return text\n",
    "\n",
    "\n",
    "# Function to remove \"mis\" from words starting with \"mis\", excluding \"miss\"\n",
    "def remove_mis(text):\n",
    "    return mis_pattern.sub(\n",
    "        lambda match: match.group().replace(\"mis\", \"\", 1), text\n",
    "    )\n",
    "\n",
    "\n",
    "for idx, item in enumerate(tqdm(data)):\n",
    "    new_cf = []\n",
    "    for cf in item[\"counterfactual\"]:\n",
    "        cf_answer = cf[\"answers\"][0]\n",
    "        for ans in item[\"answers\"]:\n",
    "            pattern = re.compile(re.escape(ans), re.IGNORECASE)\n",
    "            for i, text in enumerate(cf[\"contexts\"]):\n",
    "                # Remove unwanted words and replace negative phrases\n",
    "                cleaned_text = remove_pattern.sub(\"\", text)\n",
    "                cleaned_text = replace_negatives(\n",
    "                    cleaned_text, negative_to_positive\n",
    "                )\n",
    "\n",
    "                # Remove \"mis\" from words starting with \"mis\", excluding \"miss\"\n",
    "                cleaned_text = remove_mis(cleaned_text)\n",
    "\n",
    "                # Replace the answer in the cleaned text\n",
    "                updated_text = pattern.sub(cf_answer, cleaned_text)\n",
    "\n",
    "                # Update the context with the replaced and cleaned text\n",
    "                cf[\"contexts\"][\n",
    "                    i\n",
    "                ] = (\n",
    "                    updated_text.strip()\n",
    "                )  # strip() removes leading/trailing spaces\n",
    "        new_cf.append(cf)\n",
    "    data[idx][\"counterfactual\"] = new_cf"
   ]
  },
  {
   "cell_type": "code",
   "execution_count": 21,
   "metadata": {},
   "outputs": [],
   "source": [
    "save_json(new_data_path, data)"
   ]
  },
  {
   "cell_type": "code",
   "execution_count": 22,
   "metadata": {},
   "outputs": [],
   "source": [
    "from utils.json_utils import *\n",
    "\n",
    "original_data_path = \"/home/guest-pjy/data/0831/0831_hotpotqa_cleaned.json\"\n",
    "data = load_json(original_data_path)\n",
    "for idx, item in enumerate(data):\n",
    "    item[\"index\"] = idx\n",
    "for item in data:\n",
    "    if len(item[\"paraphrase\"]) != 10:\n",
    "        print(item[\"index\"])\n",
    "    if len(item[\"counterfactual\"]) != 9:\n",
    "        print(item[\"index\"])\n",
    "    for cf in item[\"counterfactual\"]:\n",
    "        if len(cf[\"contexts\"]) != 3:\n",
    "            print(item[\"index\"])"
   ]
  },
  {
   "cell_type": "code",
   "execution_count": 23,
   "metadata": {},
   "outputs": [
    {
     "data": {
      "text/plain": [
       "3000"
      ]
     },
     "execution_count": 23,
     "metadata": {},
     "output_type": "execute_result"
    }
   ],
   "source": [
    "len(data)"
   ]
  },
  {
   "cell_type": "code",
   "execution_count": null,
   "metadata": {},
   "outputs": [],
   "source": []
  }
 ],
 "metadata": {
  "kernelspec": {
   "display_name": "Python 3",
   "language": "python",
   "name": "python3"
  },
  "language_info": {
   "codemirror_mode": {
    "name": "ipython",
    "version": 3
   },
   "file_extension": ".py",
   "mimetype": "text/x-python",
   "name": "python",
   "nbconvert_exporter": "python",
   "pygments_lexer": "ipython3",
   "version": "3.11.9"
  }
 },
 "nbformat": 4,
 "nbformat_minor": 2
}
