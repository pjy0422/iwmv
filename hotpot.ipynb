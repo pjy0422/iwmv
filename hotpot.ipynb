{
 "cells": [
  {
   "cell_type": "code",
   "execution_count": 52,
   "metadata": {},
   "outputs": [],
   "source": [
    "from utils.json_utils import *\n",
    "\n",
    "data = load_json(\"/home/guest-pjy/data/source/hotpot_dev_distractor_v1.json\")\n",
    "new_data_path = (\n",
    "    \"/home/guest-pjy/data/0830/hotpot_dev_distractor_preprocessed.json\"\n",
    ")"
   ]
  },
  {
   "cell_type": "code",
   "execution_count": 53,
   "metadata": {},
   "outputs": [
    {
     "data": {
      "text/plain": [
       "{'_id': '5a8b57f25542995d1e6f1371',\n",
       " 'answer': 'yes',\n",
       " 'question': 'Were Scott Derrickson and Ed Wood of the same nationality?',\n",
       " 'supporting_facts': [['Scott Derrickson', 0], ['Ed Wood', 0]],\n",
       " 'context': [['Ed Wood (film)',\n",
       "   ['Ed Wood is a 1994 American biographical period comedy-drama film directed and produced by Tim Burton, and starring Johnny Depp as cult filmmaker Ed Wood.',\n",
       "    \" The film concerns the period in Wood's life when he made his best-known films as well as his relationship with actor Bela Lugosi, played by Martin Landau.\",\n",
       "    ' Sarah Jessica Parker, Patricia Arquette, Jeffrey Jones, Lisa Marie, and Bill Murray are among the supporting cast.']],\n",
       "  ['Scott Derrickson',\n",
       "   ['Scott Derrickson (born July 16, 1966) is an American director, screenwriter and producer.',\n",
       "    ' He lives in Los Angeles, California.',\n",
       "    ' He is best known for directing horror films such as \"Sinister\", \"The Exorcism of Emily Rose\", and \"Deliver Us From Evil\", as well as the 2016 Marvel Cinematic Universe installment, \"Doctor Strange.\"']],\n",
       "  ['Woodson, Arkansas',\n",
       "   ['Woodson is a census-designated place (CDP) in Pulaski County, Arkansas, in the United States.',\n",
       "    ' Its population was 403 at the 2010 census.',\n",
       "    ' It is part of the Little Rock–North Little Rock–Conway Metropolitan Statistical Area.',\n",
       "    ' Woodson and its accompanying Woodson Lake and Wood Hollow are the namesake for Ed Wood Sr., a prominent plantation owner, trader, and businessman at the turn of the 20th century.',\n",
       "    ' Woodson is adjacent to the Wood Plantation, the largest of the plantations own by Ed Wood Sr.']],\n",
       "  ['Tyler Bates',\n",
       "   ['Tyler Bates (born June 5, 1965) is an American musician, music producer, and composer for films, television, and video games.',\n",
       "    ' Much of his work is in the action and horror film genres, with films like \"Dawn of the Dead, 300, Sucker Punch,\" and \"John Wick.\"',\n",
       "    ' He has collaborated with directors like Zack Snyder, Rob Zombie, Neil Marshall, William Friedkin, Scott Derrickson, and James Gunn.',\n",
       "    ' With Gunn, he has scored every one of the director\\'s films; including \"Guardians of the Galaxy\", which became one of the highest grossing domestic movies of 2014, and its 2017 sequel.',\n",
       "    ' In addition, he is also the lead guitarist of the American rock band Marilyn Manson, and produced its albums \"The Pale Emperor\" and \"Heaven Upside Down\".']],\n",
       "  ['Ed Wood',\n",
       "   ['Edward Davis Wood Jr. (October 10, 1924 – December 10, 1978) was an American filmmaker, actor, writer, producer, and director.']],\n",
       "  ['Deliver Us from Evil (2014 film)',\n",
       "   ['Deliver Us from Evil is a 2014 American supernatural horror film directed by Scott Derrickson and produced by Jerry Bruckheimer.',\n",
       "    ' The film is officially based on a 2001 non-fiction book entitled \"Beware the Night\" by Ralph Sarchie and Lisa Collier Cool, and its marketing campaign highlighted that it was \"inspired by actual accounts\".',\n",
       "    ' The film stars Eric Bana, Édgar Ramírez, Sean Harris, Olivia Munn, and Joel McHale in the main roles and was released on July 2, 2014.']],\n",
       "  ['Adam Collis',\n",
       "   ['Adam Collis is an American filmmaker and actor.',\n",
       "    ' He attended the Duke University from 1986 to 1990 and the University of California, Los Angeles from 2007 to 2010.',\n",
       "    ' He also studied cinema at the University of Southern California from 1991 to 1997.',\n",
       "    ' Collis first work was the assistant director for the Scott Derrickson\\'s short \"Love in the Ruins\" (1995).',\n",
       "    ' In 1998, he played \"Crankshaft\" in Eric Koyanagi\\'s \"Hundred Percent\".']],\n",
       "  ['Sinister (film)',\n",
       "   ['Sinister is a 2012 supernatural horror film directed by Scott Derrickson and written by Derrickson and C. Robert Cargill.',\n",
       "    ' It stars Ethan Hawke as fictional true-crime writer Ellison Oswalt who discovers a box of home movies in his attic that puts his family in danger.']],\n",
       "  ['Conrad Brooks',\n",
       "   ['Conrad Brooks (born Conrad Biedrzycki on January 3, 1931 in Baltimore, Maryland) is an American actor.',\n",
       "    ' He moved to Hollywood, California in 1948 to pursue a career in acting.',\n",
       "    ' He got his start in movies appearing in Ed Wood films such as \"Plan 9 from Outer Space\", \"Glen or Glenda\", and \"Jail Bait.\"',\n",
       "    ' He took a break from acting during the 1960s and 1970s but due to the ongoing interest in the films of Ed Wood, he reemerged in the 1980s and has become a prolific actor.',\n",
       "    ' He also has since gone on to write, produce and direct several films.']],\n",
       "  ['Doctor Strange (2016 film)',\n",
       "   ['Doctor Strange is a 2016 American superhero film based on the Marvel Comics character of the same name, produced by Marvel Studios and distributed by Walt Disney Studios Motion Pictures.',\n",
       "    ' It is the fourteenth film of the Marvel Cinematic Universe (MCU).',\n",
       "    ' The film was directed by Scott Derrickson, who wrote it with Jon Spaihts and C. Robert Cargill, and stars Benedict Cumberbatch as Stephen Strange, along with Chiwetel Ejiofor, Rachel McAdams, Benedict Wong, Michael Stuhlbarg, Benjamin Bratt, Scott Adkins, Mads Mikkelsen, and Tilda Swinton.',\n",
       "    ' In \"Doctor Strange\", surgeon Strange learns the mystic arts after a career-ending car accident.']]],\n",
       " 'type': 'comparison',\n",
       " 'level': 'hard'}"
      ]
     },
     "execution_count": 53,
     "metadata": {},
     "output_type": "execute_result"
    }
   ],
   "source": [
    "data[0]"
   ]
  },
  {
   "cell_type": "code",
   "execution_count": 54,
   "metadata": {},
   "outputs": [],
   "source": [
    "from collections import Counter\n",
    "\n",
    "new_data = []\n",
    "dd = Counter()\n",
    "for _idx, item in enumerate(data):\n",
    "    sup_facts = item[\"supporting_facts\"]\n",
    "    ctx = \"\"\n",
    "    cnt = 0\n",
    "    for sf in sup_facts:\n",
    "        title, idx = sf\n",
    "        for context in item[\"context\"]:\n",
    "\n",
    "            if context[0] == title:\n",
    "                if context[1] == []:\n",
    "                    continue\n",
    "                if idx >= len(context[1]):\n",
    "                    continue\n",
    "                ctx += context[1][idx]\n",
    "\n",
    "                ctx += \" \"\n",
    "                cnt += 1\n",
    "    if ctx != \"\":\n",
    "        dd[cnt] += 1\n",
    "        new_data.append(\n",
    "            {\n",
    "                \"index\": _idx,\n",
    "                \"question\": item[\"question\"],\n",
    "                \"answers\": [item[\"answer\"]],\n",
    "                \"ctxs\": [ctx],\n",
    "            }\n",
    "        )"
   ]
  },
  {
   "cell_type": "code",
   "execution_count": 55,
   "metadata": {},
   "outputs": [],
   "source": [
    "save_json(new_data_path, new_data)"
   ]
  },
  {
   "cell_type": "code",
   "execution_count": 56,
   "metadata": {},
   "outputs": [
    {
     "name": "stdout",
     "output_type": "stream",
     "text": [
      "{'index': 0, 'question': 'Were Scott Derrickson and Ed Wood of the same nationality?', 'answers': ['yes'], 'ctxs': ['Scott Derrickson (born July 16, 1966) is an American director, screenwriter and producer. Edward Davis Wood Jr. (October 10, 1924 – December 10, 1978) was an American filmmaker, actor, writer, producer, and director. ']}\n"
     ]
    }
   ],
   "source": [
    "data = load_json(new_data_path)\n",
    "print(data[0])"
   ]
  },
  {
   "cell_type": "code",
   "execution_count": 57,
   "metadata": {},
   "outputs": [],
   "source": [
    "cnt = dict()\n",
    "for item in data:\n",
    "    ctx = item[\"ctxs\"][0]\n",
    "    l = len(ctx.split())\n",
    "    cnt[l] = cnt.get(l, 0) + 1\n",
    "tuple_list = sorted(cnt.items(), key=lambda x: x[0])"
   ]
  },
  {
   "cell_type": "code",
   "execution_count": 58,
   "metadata": {},
   "outputs": [
    {
     "name": "stdout",
     "output_type": "stream",
     "text": [
      "[(12, 1), (13, 3), (14, 1), (15, 3), (16, 2), (17, 2), (18, 6), (19, 7), (20, 13), (21, 20), (22, 21), (23, 30), (24, 39), (25, 35), (26, 51), (27, 47), (28, 54), (29, 66), (30, 90), (31, 80), (32, 127), (33, 85), (34, 117), (35, 117), (36, 138), (37, 138), (38, 153), (39, 136), (40, 130), (41, 139), (42, 150), (43, 155), (44, 189), (45, 161), (46, 151), (47, 186), (48, 128), (49, 121), (50, 144), (51, 129), (52, 163), (53, 152), (54, 136), (55, 129), (56, 136), (57, 139), (58, 117), (59, 125), (60, 124), (61, 139), (62, 102), (63, 130), (64, 89), (65, 74), (66, 95), (67, 113), (68, 102), (69, 93), (70, 74), (71, 89), (72, 83), (73, 88), (74, 62), (75, 66), (76, 73), (77, 79), (78, 55), (79, 58), (80, 70), (81, 60), (82, 71), (83, 55), (84, 59), (85, 54), (86, 40), (87, 45), (88, 38), (89, 36), (90, 30), (91, 34), (92, 31), (93, 21), (94, 28), (95, 27), (96, 27), (97, 21), (98, 29), (99, 28), (100, 19), (101, 18), (102, 23), (103, 14), (104, 15), (105, 18), (106, 11), (107, 14), (108, 17), (109, 10), (110, 2), (111, 6), (112, 9), (113, 11), (114, 7), (115, 5), (116, 9), (117, 7), (118, 11), (119, 4), (120, 11), (121, 8), (122, 5), (123, 4), (124, 10), (125, 8), (126, 8), (127, 7), (128, 3), (129, 4), (130, 3), (131, 3), (132, 2), (133, 1), (135, 3), (136, 3), (137, 2), (138, 1), (139, 4), (141, 3), (143, 1), (144, 2), (145, 2), (146, 1), (147, 4), (149, 1), (151, 2), (152, 1), (155, 2), (157, 1), (159, 1), (163, 1), (164, 1), (171, 1), (174, 1), (175, 2), (178, 1), (192, 1), (196, 1), (239, 1)]\n"
     ]
    }
   ],
   "source": [
    "print(tuple_list)"
   ]
  },
  {
   "cell_type": "code",
   "execution_count": 59,
   "metadata": {},
   "outputs": [
    {
     "data": {
      "text/plain": [
       "<BarContainer object of 148 artists>"
      ]
     },
     "execution_count": 59,
     "metadata": {},
     "output_type": "execute_result"
    },
    {
     "data": {
      "image/png": "[encoded data removed]",
      "text/plain": [
       "<Figure size 640x480 with 1 Axes>"
      ]
     },
     "metadata": {},
     "output_type": "display_data"
    }
   ],
   "source": [
    "import matplotlib.pyplot as plt\n",
    "\n",
    "plt.bar([x[0] for x in tuple_list], [x[1] for x in tuple_list])"
   ]
  },
  {
   "cell_type": "code",
   "execution_count": 60,
   "metadata": {},
   "outputs": [
    {
     "data": {
      "text/plain": [
       "(57.59000675219446, 22.301122745100848)"
      ]
     },
     "execution_count": 60,
     "metadata": {},
     "output_type": "execute_result"
    }
   ],
   "source": [
    "# calculate the mean and std from tuple_list\n",
    "import numpy as np\n",
    "\n",
    "# Extracting word lengths and counts\n",
    "word_lengths = np.array([x[0] for x in tuple_list])\n",
    "counts = np.array([x[1] for x in tuple_list])\n",
    "\n",
    "# Calculate the mean\n",
    "mean = np.sum(word_lengths * counts) / np.sum(counts)\n",
    "\n",
    "# Calculate the variance\n",
    "variance = np.sum(counts * (word_lengths - mean) ** 2) / np.sum(counts)\n",
    "\n",
    "# Standard deviation is the square root of the variance\n",
    "std = np.sqrt(variance)\n",
    "\n",
    "mean, std"
   ]
  },
  {
   "cell_type": "code",
   "execution_count": 61,
   "metadata": {},
   "outputs": [
    {
     "data": {
      "text/plain": [
       "5233"
      ]
     },
     "execution_count": 61,
     "metadata": {},
     "output_type": "execute_result"
    }
   ],
   "source": [
    "len(\n",
    "    [\n",
    "        x\n",
    "        for x in new_data\n",
    "        if len(x[\"ctxs\"][0].split()) >= mean - std\n",
    "        and len(x[\"ctxs\"][0].split()) <= mean + std\n",
    "    ]\n",
    ")"
   ]
  },
  {
   "cell_type": "code",
   "execution_count": 62,
   "metadata": {},
   "outputs": [],
   "source": [
    "new_data = [\n",
    "    x\n",
    "    for x in new_data\n",
    "    if len(x[\"ctxs\"][0].split()) >= mean - std\n",
    "    and len(x[\"ctxs\"][0].split()) <= mean + std\n",
    "]"
   ]
  },
  {
   "cell_type": "code",
   "execution_count": 63,
   "metadata": {},
   "outputs": [],
   "source": [
    "cnt = dict()\n",
    "for item in new_data:\n",
    "    ctx = item[\"ctxs\"][0]\n",
    "    l = len(ctx.split())\n",
    "    cnt[l] = cnt.get(l, 0) + 1\n",
    "tuple_list = sorted(cnt.items(), key=lambda x: x[0])"
   ]
  },
  {
   "cell_type": "code",
   "execution_count": 64,
   "metadata": {},
   "outputs": [
    {
     "data": {
      "text/plain": [
       "<BarContainer object of 44 artists>"
      ]
     },
     "execution_count": 64,
     "metadata": {},
     "output_type": "execute_result"
    },
    {
     "data": {
      "image/png": "[encoded data removed]",
      "text/plain": [
       "<Figure size 640x480 with 1 Axes>"
      ]
     },
     "metadata": {},
     "output_type": "display_data"
    }
   ],
   "source": [
    "import matplotlib.pyplot as plt\n",
    "\n",
    "plt.bar([x[0] for x in tuple_list], [x[1] for x in tuple_list])"
   ]
  },
  {
   "cell_type": "code",
   "execution_count": null,
   "metadata": {},
   "outputs": [],
   "source": []
  }
 ],
 "metadata": {
  "kernelspec": {
   "display_name": "Python 3",
   "language": "python",
   "name": "python3"
  },
  "language_info": {
   "codemirror_mode": {
    "name": "ipython",
    "version": 3
   },
   "file_extension": ".py",
   "mimetype": "text/x-python",
   "name": "python",
   "nbconvert_exporter": "python",
   "pygments_lexer": "ipython3",
   "version": "3.11.9"
  }
 },
 "nbformat": 4,
 "nbformat_minor": 2
}
