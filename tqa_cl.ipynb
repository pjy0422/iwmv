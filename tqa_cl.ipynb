{
 "cells": [
  {
   "cell_type": "code",
   "execution_count": 12,
   "metadata": {},
   "outputs": [],
   "source": [
    "from utils.json_utils import *"
   ]
  },
  {
   "cell_type": "code",
   "execution_count": 13,
   "metadata": {},
   "outputs": [],
   "source": [
    "nq_path = \"/home/guest-pjy/0829_NQ_naive_fail_only.json\"\n",
    "new_path = \"/home/guest-pjy/0829_NQ_naive_fail_only_poisonedrag.json\""
   ]
  },
  {
   "cell_type": "code",
   "execution_count": 14,
   "metadata": {},
   "outputs": [],
   "source": [
    "nq_data = load_json(nq_path)\n",
    "new_data = []\n",
    "for item in nq_data:\n",
    "    question = item[\"question\"]\n",
    "\n",
    "    for cf in item[\"counterfactual\"]:\n",
    "        new_a = [question + \". \" + ctx for ctx in cf[\"contexts\"]]\n",
    "        cf[\"contexts\"] = new_a\n",
    "    new_data.append(\n",
    "        {\n",
    "            \"index\": item[\"index\"],\n",
    "            \"question\": item[\"question\"],\n",
    "            \"answers\": item[\"answers\"],\n",
    "            \"paraphrase\": item[\"paraphrase\"],\n",
    "            \"counterfactual\": item[\"counterfactual\"],\n",
    "            \"irrelevant\": item[\"irrelevant\"],\n",
    "        }\n",
    "    )"
   ]
  },
  {
   "cell_type": "code",
   "execution_count": 15,
   "metadata": {},
   "outputs": [],
   "source": [
    "for idx, item in enumerate(new_data):\n",
    "    item[\"index\"] = idx"
   ]
  },
  {
   "cell_type": "code",
   "execution_count": 16,
   "metadata": {},
   "outputs": [],
   "source": [
    "save_json(new_path, new_data)"
   ]
  },
  {
   "cell_type": "code",
   "execution_count": null,
   "metadata": {},
   "outputs": [],
   "source": []
  }
 ],
 "metadata": {
  "kernelspec": {
   "display_name": "venv_311",
   "language": "python",
   "name": "python3"
  },
  "language_info": {
   "codemirror_mode": {
    "name": "ipython",
    "version": 3
   },
   "file_extension": ".py",
   "mimetype": "text/x-python",
   "name": "python",
   "nbconvert_exporter": "python",
   "pygments_lexer": "ipython3",
   "version": "3.11.9"
  }
 },
 "nbformat": 4,
 "nbformat_minor": 2
}
